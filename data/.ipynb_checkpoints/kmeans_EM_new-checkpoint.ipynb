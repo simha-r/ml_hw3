{
 "cells": [
  {
   "cell_type": "code",
   "execution_count": 6,
   "metadata": {},
   "outputs": [
    {
     "name": "stdout",
     "output_type": "stream",
     "text": [
      "Automatically created module for IPython interactive environment\n"
     ]
    }
   ],
   "source": [
    "print(__doc__)\n",
    "import pandas as pd\n",
    "import numpy as np\n",
    "from time import time\n",
    "import numpy as np\n",
    "import matplotlib.pyplot as plt\n",
    "\n",
    "from sklearn import metrics\n",
    "from sklearn.cluster import KMeans\n",
    "from sklearn.decomposition import PCA\n",
    "from sklearn.preprocessing import scale\n",
    "from sklearn.neural_network import MLPClassifier\n",
    "from sklearn.metrics import accuracy_score, classification_report, confusion_matrix, recall_score\n",
    "from sklearn.metrics import precision_score,make_scorer, auc, roc_auc_score\n",
    "\n",
    "from sklearn.model_selection import cross_val_score, GridSearchCV, cross_validate, train_test_split\n",
    "from sklearn.decomposition import FastICA\n",
    "from sklearn.random_projection import SparseRandomProjection\n",
    "from sklearn.feature_selection import SelectFromModel\n",
    "\n",
    "from sklearn.ensemble import RandomForestClassifier"
   ]
  },
  {
   "cell_type": "code",
   "execution_count": 7,
   "metadata": {},
   "outputs": [
    {
     "name": "stdout",
     "output_type": "stream",
     "text": [
      "Pregnancies                   0\n",
      "Glucose                       5\n",
      "BloodPressure                35\n",
      "SkinThickness               227\n",
      "Insulin                     374\n",
      "BMI                          11\n",
      "DiabetesPedigreeFunction      0\n",
      "Age                           0\n",
      "Outcome                       0\n",
      "dtype: int64\n"
     ]
    }
   ],
   "source": [
    "df = pd.read_csv(\"diabetes_old.csv\")\n",
    "\n",
    "diabetes_data_copy = df.copy(deep = True)\n",
    "diabetes_data_copy[['Glucose','BloodPressure','SkinThickness','Insulin','BMI']] = \\\n",
    "                diabetes_data_copy[['Glucose','BloodPressure','SkinThickness','Insulin','BMI']].replace(0,np.NaN)\n",
    "\n",
    "## showing the count of Nans\n",
    "print(diabetes_data_copy.isnull().sum())\n",
    "\n",
    "diabetes_data_copy['Glucose'].fillna(diabetes_data_copy['Glucose'].mean(), inplace = True)\n",
    "diabetes_data_copy['BloodPressure'].fillna(diabetes_data_copy['BloodPressure'].mean(), inplace = True)\n",
    "diabetes_data_copy['SkinThickness'].fillna(diabetes_data_copy['SkinThickness'].median(), inplace = True)\n",
    "diabetes_data_copy['Insulin'].fillna(diabetes_data_copy['Insulin'].median(), inplace = True)\n",
    "diabetes_data_copy['BMI'].fillna(diabetes_data_copy['BMI'].median(), inplace = True)\n",
    "\n",
    "count = diabetes_data_copy['Outcome'].value_counts()"
   ]
  },
  {
   "cell_type": "code",
   "execution_count": 8,
   "metadata": {},
   "outputs": [
    {
     "name": "stderr",
     "output_type": "stream",
     "text": [
      "/Users/simha/.virtualenvs/ml_hw1/lib/python3.7/site-packages/ipykernel_launcher.py:6: DataConversionWarning: Data with input dtype int64, float64 were all converted to float64 by the scale function.\n",
      "  \n"
     ]
    }
   ],
   "source": [
    "X =  pd.DataFrame(diabetes_data_copy,\n",
    "        columns=['Pregnancies', 'Glucose', 'BloodPressure', 'SkinThickness', 'Insulin',\n",
    "       'BMI', 'DiabetesPedigreeFunction', 'Age'])\n",
    "y = pd.DataFrame(diabetes_data_copy,  columns=['Outcome'])\n",
    "\n",
    "scaled_X = scale(X)"
   ]
  },
  {
   "cell_type": "code",
   "execution_count": 9,
   "metadata": {},
   "outputs": [],
   "source": [
    "pca = PCA(n_components=5, random_state=945).fit_transform(scaled_X)\n",
    "ica = FastICA(n_components=7, random_state=945).fit_transform(scaled_X)\n",
    "rp = SparseRandomProjection(random_state=945, n_components=6).fit_transform(scaled_X)"
   ]
  },
  {
   "cell_type": "code",
   "execution_count": 5,
   "metadata": {},
   "outputs": [],
   "source": [
    "X_train_pca,X_test_pca,y_train_pca,y_test_pca = train_test_split(pca,y,test_size=0.30,random_state=945, stratify=y)\n",
    "X_train_ica,X_test_ica,y_train_ica,y_test_ica = train_test_split(ica,y,test_size=0.30,random_state=945, stratify=y)\n",
    "X_train_rp,X_test_rp,y_train_rp,y_test_rp = train_test_split(rp,y,test_size=0.30,random_state=945, stratify=y)\n",
    "X_train_rf,X_test_rf,y_train_rf,y_test_rf = train_test_split(scaled_X,y,test_size=0.30,random_state=945, stratify=y)"
   ]
  },
  {
   "cell_type": "code",
   "execution_count": 6,
   "metadata": {},
   "outputs": [
    {
     "name": "stdout",
     "output_type": "stream",
     "text": [
      "('Fit Time', 0.034240007400512695)\n",
      "74.0%\n",
      "              precision    recall  f1-score   support\n",
      "\n",
      "           0       0.76      0.86      0.81       150\n",
      "           1       0.66      0.51      0.57        81\n",
      "\n",
      "   micro avg       0.74      0.74      0.74       231\n",
      "   macro avg       0.71      0.68      0.69       231\n",
      "weighted avg       0.73      0.74      0.73       231\n",
      "\n"
     ]
    },
    {
     "name": "stderr",
     "output_type": "stream",
     "text": [
      "/Users/RajdeepSingh/anaconda3/envs/ml/lib/python2.7/site-packages/sklearn/neural_network/multilayer_perceptron.py:916: DataConversionWarning: A column-vector y was passed when a 1d array was expected. Please change the shape of y to (n_samples, ), for example using ravel().\n",
      "  y = column_or_1d(y, warn=True)\n"
     ]
    }
   ],
   "source": [
    "model_pca = MLPClassifier(activation='relu', alpha= 0.1, hidden_layer_sizes= 3, max_iter= 2000, solver='lbfgs')\n",
    "t1 = time()\n",
    "model_pca.fit(X_train_pca, y_train_pca)\n",
    "t2 = time()\n",
    "print('Fit Time', t2 - t1)\n",
    "\n",
    "y_predict_pca = model_pca.predict(X_test_pca)\n",
    "print(str(round(accuracy_score(y_test_pca, y_predict_pca) * 100.0)) + '%')\n",
    "print(classification_report(y_test_pca, y_predict_pca))"
   ]
  },
  {
   "cell_type": "code",
   "execution_count": 7,
   "metadata": {},
   "outputs": [
    {
     "name": "stdout",
     "output_type": "stream",
     "text": [
      "('Fit Time', 0.04218006134033203)\n",
      "77.0%\n",
      "              precision    recall  f1-score   support\n",
      "\n",
      "           0       0.77      0.93      0.84       150\n",
      "           1       0.80      0.48      0.60        81\n",
      "\n",
      "   micro avg       0.77      0.77      0.77       231\n",
      "   macro avg       0.78      0.71      0.72       231\n",
      "weighted avg       0.78      0.77      0.76       231\n",
      "\n"
     ]
    }
   ],
   "source": [
    "model_ica = MLPClassifier(activation='relu', alpha= 0.1, hidden_layer_sizes= 3, max_iter= 2000, solver='lbfgs')\n",
    "t1 = time()\n",
    "model_ica.fit(X_train_ica, y_train_ica)\n",
    "t2 = time()\n",
    "print('Fit Time', t2 - t1)\n",
    "\n",
    "y_predict_ica = model_ica.predict(X_test_ica)\n",
    "print(str(round(accuracy_score(y_test_ica, y_predict_ica) * 100.0)) + '%')\n",
    "print(classification_report(y_test_ica, y_predict_ica))"
   ]
  },
  {
   "cell_type": "code",
   "execution_count": 8,
   "metadata": {},
   "outputs": [
    {
     "name": "stdout",
     "output_type": "stream",
     "text": [
      "('Fit Time', 0.09958410263061523)\n",
      "75.0%\n",
      "              precision    recall  f1-score   support\n",
      "\n",
      "           0       0.77      0.88      0.82       150\n",
      "           1       0.69      0.51      0.59        81\n",
      "\n",
      "   micro avg       0.75      0.75      0.75       231\n",
      "   macro avg       0.73      0.69      0.70       231\n",
      "weighted avg       0.74      0.75      0.74       231\n",
      "\n"
     ]
    }
   ],
   "source": [
    "model_rp = MLPClassifier(activation='relu', alpha= 0.1, hidden_layer_sizes= 3, max_iter= 2000, solver='lbfgs')\n",
    "t1 = time()\n",
    "model_rp.fit(X_train_rp, y_train_rp)\n",
    "t2 = time()\n",
    "print('Fit Time', t2 - t1)\n",
    "y_predict_rp = model_rp.predict(X_test_rp)\n",
    "print(str(round(accuracy_score(y_test_rp, y_predict_rp) * 100.0)) + '%')\n",
    "print(classification_report(y_test_rp, y_predict_rp))"
   ]
  },
  {
   "cell_type": "code",
   "execution_count": 9,
   "metadata": {},
   "outputs": [
    {
     "name": "stderr",
     "output_type": "stream",
     "text": [
      "/Users/RajdeepSingh/anaconda3/envs/ml/lib/python2.7/site-packages/ipykernel_launcher.py:3: DataConversionWarning: A column-vector y was passed when a 1d array was expected. Please change the shape of y to (n_samples,), for example using ravel().\n",
      "  This is separate from the ipykernel package so we can avoid doing imports until\n"
     ]
    },
    {
     "data": {
      "text/plain": [
       "RandomForestClassifier(bootstrap=True, class_weight=None, criterion='gini',\n",
       "            max_depth=None, max_features='auto', max_leaf_nodes=None,\n",
       "            min_impurity_decrease=0.0, min_impurity_split=None,\n",
       "            min_samples_leaf=1, min_samples_split=2,\n",
       "            min_weight_fraction_leaf=0.0, n_estimators=1000, n_jobs=None,\n",
       "            oob_score=False, random_state=845, verbose=0, warm_start=False)"
      ]
     },
     "execution_count": 9,
     "metadata": {},
     "output_type": "execute_result"
    }
   ],
   "source": [
    "clf = RandomForestClassifier( n_estimators=1000, random_state=945)\n",
    "\n",
    "clf.fit(X_train_rf, y_train_rf)"
   ]
  },
  {
   "cell_type": "code",
   "execution_count": 10,
   "metadata": {},
   "outputs": [
    {
     "name": "stdout",
     "output_type": "stream",
     "text": [
      "('Pregnancies', 0.07929210725591468)\n",
      "('Glucose', 0.263464262991264)\n",
      "('BloodPressure', 0.0857910689554687)\n",
      "('SkinThickness', 0.07559930390311015)\n",
      "('Insulin', 0.08020135135656865)\n",
      "('BMI', 0.15514330879532734)\n",
      "('DiabetesPedigreeFunction', 0.1162065644761308)\n",
      "('Age', 0.14430203226621613)\n"
     ]
    }
   ],
   "source": [
    "feat_labels = ['Pregnancies', 'Glucose', 'BloodPressure', 'SkinThickness', 'Insulin',\n",
    "       'BMI', 'DiabetesPedigreeFunction', 'Age']\n",
    "for feature in zip(feat_labels, clf.feature_importances_):\n",
    "    print(feature)\n",
    "    \n"
   ]
  },
  {
   "cell_type": "code",
   "execution_count": 11,
   "metadata": {},
   "outputs": [
    {
     "name": "stderr",
     "output_type": "stream",
     "text": [
      "/Users/RajdeepSingh/anaconda3/envs/ml/lib/python2.7/site-packages/sklearn/feature_selection/from_model.py:197: DataConversionWarning: A column-vector y was passed when a 1d array was expected. Please change the shape of y to (n_samples,), for example using ravel().\n",
      "  self.estimator_.fit(X, y, **fit_params)\n"
     ]
    },
    {
     "data": {
      "text/plain": [
       "SelectFromModel(estimator=RandomForestClassifier(bootstrap=True, class_weight=None, criterion='gini',\n",
       "            max_depth=None, max_features='auto', max_leaf_nodes=None,\n",
       "            min_impurity_decrease=0.0, min_impurity_split=None,\n",
       "            min_samples_leaf=1, min_samples_split=2,\n",
       "            min_weight_fraction_leaf=0.0, n_estimators=1000, n_jobs=None,\n",
       "            oob_score=False, random_state=845, verbose=0, warm_start=False),\n",
       "        max_features=None, norm_order=1, prefit=False, threshold=0.1)"
      ]
     },
     "execution_count": 11,
     "metadata": {},
     "output_type": "execute_result"
    }
   ],
   "source": [
    "sfm = SelectFromModel(clf, threshold=0.10)\n",
    "sfm.fit(X_train_rf, y_train_rf)\n"
   ]
  },
  {
   "cell_type": "code",
   "execution_count": 12,
   "metadata": {},
   "outputs": [
    {
     "data": {
      "text/plain": [
       "array([[-0.91026588, -0.1244718 ,  0.53493459, -0.87137393],\n",
       "       [ 1.12812643,  2.30613958, -0.70633419, -0.10558415],\n",
       "       [ 1.48977668,  0.74880175, -0.92680285,  0.83038113],\n",
       "       ...,\n",
       "       [ 2.14732259,  1.6220753 ,  1.69768028,  1.68125866],\n",
       "       [-0.35135186, -0.72120873, -0.9992857 ,  0.57511787],\n",
       "       [ 0.79935348,  1.17088396,  3.95370893,  0.91546889]])"
      ]
     },
     "execution_count": 12,
     "metadata": {},
     "output_type": "execute_result"
    }
   ],
   "source": [
    "X_important_train = sfm.transform(X_train_rf)\n",
    "X_important_test = sfm.transform(X_test_rf)\n",
    "X_important_train"
   ]
  },
  {
   "cell_type": "code",
   "execution_count": 13,
   "metadata": {},
   "outputs": [
    {
     "name": "stdout",
     "output_type": "stream",
     "text": [
      "('Fit Time', 0.06358695030212402)\n",
      "75.0%\n",
      "              precision    recall  f1-score   support\n",
      "\n",
      "           0       0.77      0.87      0.82       150\n",
      "           1       0.68      0.53      0.60        81\n",
      "\n",
      "   micro avg       0.75      0.75      0.75       231\n",
      "   macro avg       0.73      0.70      0.71       231\n",
      "weighted avg       0.74      0.75      0.74       231\n",
      "\n"
     ]
    }
   ],
   "source": [
    "model_rf = MLPClassifier(activation='relu', alpha= 0.1, hidden_layer_sizes= 3, max_iter= 2000, solver='lbfgs')\n",
    "\n",
    "t1 = time()\n",
    "model_rf.fit(X_important_train, y_train_rp)\n",
    "t2 = time()\n",
    "print('Fit Time', t2 - t1)\n",
    "y_predict_rf = model_rf.predict(X_important_test)\n",
    "print(str(round(accuracy_score(y_test_rf, y_predict_rf) * 100.0)) + '%')\n",
    "print(classification_report(y_test_rf, y_predict_rf))"
   ]
  },
  {
   "cell_type": "code",
   "execution_count": null,
   "metadata": {},
   "outputs": [],
   "source": []
  }
 ],
 "metadata": {
  "kernelspec": {
   "display_name": "Python 3",
   "language": "python",
   "name": "python3"
  },
  "language_info": {
   "codemirror_mode": {
    "name": "ipython",
    "version": 3
   },
   "file_extension": ".py",
   "mimetype": "text/x-python",
   "name": "python",
   "nbconvert_exporter": "python",
   "pygments_lexer": "ipython3",
   "version": "3.7.0"
  }
 },
 "nbformat": 4,
 "nbformat_minor": 2
}
